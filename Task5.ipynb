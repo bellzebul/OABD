{
 "cells": [
  {
   "cell_type": "markdown",
   "metadata": {
    "ExecuteTime": {
     "end_time": "2023-05-06T15:57:18.971084Z",
     "start_time": "2023-05-06T15:57:18.963797Z"
    }
   },
   "source": [
    "                        МІНІСТЕРСТВО ОСВІТИ І НАУКИ УКРАЇНИ\n",
    "                   НАЦІОНАЛЬНИЙ ТЕХНІЧНИЙ УНІВЕРСИТЕТ УКРАЇНИ\n",
    "                       “КИЇВСЬКИЙ ПОЛІТЕХНІЧНИЙ ІНСТИТУТ”\n",
    "                             Кафедра біомедичної кібернетики\n",
    "\n",
    "\n",
    "                            КОМПʼЮТЕРНИЙ ПРАКТИКУМ № _5_\n",
    "\n",
    "                           з дисципліни «Обробка та аналіз БМД»\n",
    "                                     «Критерій Пірсона»\n",
    "\n",
    "\n",
    "                                                                   Студента 2-го курсу\n",
    "                                                                   групи БС-11\n",
    "                                                                   Бутко В.Д.\n",
    "                                     Київ 2023"
   ]
  },
  {
   "cell_type": "markdown",
   "metadata": {
    "id": "F9GCsxWnyAO5",
    "pycharm": {
     "name": "#%% md\n"
    }
   },
   "source": [
    "**Статистична гіпотеза** - це будь-яке твердження про характеристики, властивості або вид розподілу випадкової величини або кількох випадкових величин, з якими пов'язане дослідження.\n",
    "\n",
    "Підхід, заснований на формулюванні статистичної гіпотези та перевірки її за допомогою деякого статистичного критерію, допомагає уникнути суб'єктивності такого рішення.\n",
    "\n",
    "Статистична гіпотеза, яку висувають, зазвичай завжди одна, і вона називається основною, або **нульовою**, і позначається через H0. **Ця гіпотеза завжди говорить про збіг або рівність.**\n",
    "\n",
    "Основною гіпотезою завжди відповідає конкуруюча, або **альтернативна**, і зазвичай позначається через H1. **Альтернативна гіпотеза завжди говорить про різницю**.\n",
    "\n",
    "Приклад:\n",
    "\n",
    "H0: Відсоток одужання від хвороби в групі, яка отримує лікарський препарат, не відрізняється статистично значущо від відсотку одужання в групі, яка отримує плацебо.\n",
    "\n",
    "H1: Відсоток одужання від хвороби в групі, яка отримує лікарський препарат, статистично значущо відрізняється від відсотку одужання в групі, яка отримує плацебо.\n",
    "\n",
    "Для перевірки статистичних гіпотез існує цілий клас статистичних критеріїв.\n",
    "*Статистичний критерій — це суворе математичне правило, яким приймається чи відкидається та чи інша статистична гіпотеза з відомим рівнем значимості.*\n",
    "Алгоритми роботи статистичних критеріїв базуються на понятті помилок першого та другого роду.\n",
    "\n",
    "Помилка першого роду — у тому, що ми приймаємо альтернативну гіпотезу, тоді як правильна основна.\n",
    "\n",
    "Помилка другого роду – у тому, що ми приймаємо основну гіпотезу, тоді як вірна альтернативна.\n",
    "\n",
    "Насправді, щоб уникнути помилок першого другого роду користуються підходом, заснованим розрахунку досягнутого рівня значимості (p-value).\n",
    "\n",
    "**Досягнутий рівень значущості** - мінімальне значення рівня значущості, при якому відкидають нульову гіпотезу. Він **є критичною ймовірністю помилки першого роду**. Як правило, як критичний рівень значущості приймають значення α =0,05.\n",
    "\n",
    "Алгоритм перевірки статистичних гіпотез за допомогою досягнутого рівня значущості:\n",
    "\n",
    "1. Задаємо рівень значущості критерію (імовірність помилки першого роду, зазвичай α =0,05).\n",
    "2. Розраховуємо за наявною у нас вибіркою статистику критерію.\n",
    "3. Розраховуємо досягнутий рівень важливості критерію.\n",
    "4. Порівнюємо значення досягнутого рівня значимості з ймовірністю помилки першого роду то відкидаємо/приймаємо нульову гіпотезу:\n",
    "p-value < α - альтернативна гіпотеза,\n",
    "p-value > α - нульова гіпотеза ."
   ]
  },
  {
   "cell_type": "markdown",
   "metadata": {
    "id": "9RHioPUvpaX3",
    "pycharm": {
     "name": "#%% md\n"
    }
   },
   "source": [
    "# **КРИТЕРІЙ ПІРСОНА ДЛЯ ПОРІВНЯННЯ ДЕКІЛЬКОЇ ГРУП ЗА РОЗПОДІЛЕННЯМ ОЗНАКИ**"
   ]
  },
  {
   "cell_type": "markdown",
   "metadata": {
    "id": "gJvivgECtRy7",
    "pycharm": {
     "name": "#%% md\n"
    }
   },
   "source": [
    "## *Теоретичні відомості*"
   ]
  },
  {
   "cell_type": "markdown",
   "metadata": {
    "id": "l_CIvVzgqAA1",
    "pycharm": {
     "name": "#%% md\n"
    }
   },
   "source": [
    "Критерій хі-квадрат для аналізу таблиць спряженості був розроблений і запропонований в 1900 році англійським математиком, статистиком, біологом і філософом, засновником математичної статистики і одним з основоположників біометрії Карлом Пірсоном (1857-1936).\n",
    "\n",
    "*Таблиці спряженості* - це візуальне (табличне) відображення залежності між двома __*якісними*__ ознаками. \n",
    "Інтрерпретувати цей зв'язок можна як взаємозвя'зок між розподілом за однією ознакою в залежності від градації іншої ознаки. Прикладом може бути залежність частоти летальності в групах, що приймали різні лікувальні препарати (залежність летальності від схеми лікування), або залежність кількості осіб, що займаються різними видами спорту та частоти травматичних випадків (оцінка травматичності зайнять різними видами спорту).\n",
    "\n",
    "Рядки таблиці спряженості відповідають значенням однієї змінної, стовпці - значенням іншої змінної. *Для побудови таблиць спряженості кількісні шкали попередньо повинні бути згруповані в інтервали.* Область визначення випадковоъ величини розбивають на $k$ інтервалів, що не перетинаються:\n",
    "\n",
    "$$x_{0}<x_{1}<...<x_{k-1}<x_{k},$$\n",
    "\n",
    "де x_{0} - нижня границя області визначення випадкової величини, x_{k} - верхня границя.\n",
    "\n",
    "На перетині рядка і стовпця вказується частота спільної появи відповідних значень двох ознак.\n",
    "Сума частот по рядку називається маргінальною частотою рядка; сума частот по стовпцю - маргінальною частотою стовпчика.\n",
    "У таблиці спряженості можуть бути представлені як абсолютні, так і відносні частоти (в частках або відсотках). Відносні частоти можуть розраховуватися по відношенню:\n",
    "а) до маргінальної частоти по рядку;\n",
    "б) до маргінальної частоти по стовпцю;\n",
    "в) до обсягу вибірки."
   ]
  },
  {
   "cell_type": "markdown",
   "metadata": {
    "id": "EVMo4PIltX48",
    "pycharm": {
     "name": "#%% md\n"
    }
   },
   "source": [
    "Статистична гіпотеза для даного критерію має наступний вигляд:\n",
    "*   Основна (нульова). Ознаки не пов'язані.\n",
    "*   Конкуруюча (альтернативна). Ознаки пов'язані."
   ]
  },
  {
   "cell_type": "markdown",
   "metadata": {
    "id": "LSU7rmy8yIAB",
    "pycharm": {
     "name": "#%% md\n"
    }
   },
   "source": [
    "## Алгоритм розрахунку"
   ]
  },
  {
   "cell_type": "markdown",
   "metadata": {
    "id": "V-cBzKp5tkos",
    "pycharm": {
     "name": "#%% md\n"
    }
   },
   "source": [
    "В класичному випадку, критерій Пірсона поріявнює розподіл ознаки між двома групами. Алгоритм роботи:\n",
    "\n",
    "\n",
    "*   *Сформувати таблицю спряженості*, де стовбчики - це порювнювані групи, а рядки - градації ознаки, що досліджується.\n",
    "\n",
    "Ознака  | Група 1 | Група 2  |\n",
    "------------- | ------------- |--------- |\n",
    "Градація ознаки 1  | $n_{11}$   | $n_{21}$   |\n",
    "Градація ознаки 2  | $n_{12}$   | $n_{22}$   |\n",
    "Градація ознаки 3  | $n_{13}$   | $n_{23}$   |\n",
    "\n",
    "  $n_{11}$ - частота з якою  градація  1 зустрічається в 1й групі\n",
    "\n",
    "$n_{12}$ - частота з якою градація 2 зустрічається в 1й групі\n",
    "\n",
    "$n_{13}$ - частота з якою градація 3 зустрічається в 1й групі\n",
    "\n",
    "$n_{21}$ - частота з якою градація 1 зустрічається в 2й групі\n",
    "\n",
    "$n_{22}$ - частота з якою градація 2 зустрічається в 2й групі\n",
    "\n",
    "$n_{23}$ - частота з якою градація 3 зустрічається в 2й групі\n",
    "\n",
    "Вважаємо, що перша група експериментальна, а друга - теоретична.\n",
    "\n",
    "*   Перевірити рівність сум частот $\\sum n_{i}=\\sum \\grave{n}_{i}$. Якщо суми відрізняються, вирівняти їх зі збереженням відсоткового співвідношення між частотами всередині групи.\n",
    "\n",
    "* Розрахувати різницю між експериметальними (емпричними) та контрольним (теоретичними) частотами для кожної градації:\n",
    "\n",
    "Ознака  | Група 1 | Група 2  | $(n_{i}-\\grave{n}_{i})^2$  |\n",
    "------------- | ------------- |--------- |-------------- |\n",
    "Градація ознаки 1  | $n_{11}$   | $n_{21}$   |$(n_{11}-\\grave{n}_{21})^2$  |\n",
    "Градація ознаки 2  | $n_{12}$   | $n_{22}$   |$(n_{12}-\\grave{n}_{22})^2$  |\n",
    "Градація ознаки 3  | $n_{13}$   | $n_{23}$   |$(n_{13}-\\grave{n}_{23})^2$  |\n",
    "\n",
    "* Розділити отримані квадрати на теоретичні частити (дані контрольної групи):\n",
    "\n",
    "Ознака  | Група 1 | Група 2  | $(n_{i}-\\grave{n}_{i})^2$  | $\\frac{(n_{i}-\\grave{n}_{i})^2}{\\grave{n}_{i}}$  |\n",
    "------------- | ------------- |--------- |-------------- |-------------- |\n",
    "Градація ознаки 1  | $n_{11}$   | $n_{21}$   |$(n_{11}-\\grave{n}_{21})^2$  |$\\frac{(n_{11}-\\grave{n}_{21})^2}{\\grave{n}_{21}}$  |\n",
    "Градація ознаки 2  | $n_{12}$   | $n_{22}$   |$(n_{12}-\\grave{n}_{22})^2$  |$\\frac{(n_{12}-\\grave{n}_{22})^2}{\\grave{n}_{22}}$  |\n",
    "Градація ознаки 3  | $n_{13}$   | $n_{23}$   |$(n_{13}-\\grave{n}_{23})^2$  |$\\frac{(n_{13}-\\grave{n}_{23})^2}{\\grave{n}_{23}}^2$  |\n",
    "\n",
    "\n",
    "* Знайти сумму отриманих значень, позначивши її як $\\chi_{emp}^2$.\n",
    "\n",
    "* Визначити ступінь свободи критерію:\n",
    "\n",
    "$$r=m-1,$$\n",
    "\n",
    "де m - кількість градацій ознаки (рядків в таблиці спряженості).\n",
    "\n",
    "* Визначити за таблицею критичне значення для відповідного рівня значимості $\\alpha$ та розрахованого числа ступенів свободи.\n",
    "\n",
    "* Якщо $\\chi_{emp}^2 > \\chi_{critical}^2$, то розбіжності між розподіленнями статистично значимі на даному рівні значимості.\n"
   ]
  },
  {
   "cell_type": "markdown",
   "metadata": {
    "id": "IdynD2W28NS9",
    "pycharm": {
     "name": "#%% md\n"
    }
   },
   "source": [
    "## Таблиця критичних значень"
   ]
  },
  {
   "cell_type": "markdown",
   "metadata": {
    "id": "6jyV7r8d8RyR",
    "pycharm": {
     "name": "#%% md\n"
    }
   },
   "source": [
    "Завантажити таблицю критичних значень можна за посиланням: \n",
    "\n",
    "https://drive.google.com/open?id=1-525zNUUxYAbY3FStFy79B9O3UMkcuan"
   ]
  },
  {
   "cell_type": "markdown",
   "metadata": {
    "id": "iZobJ1GO8_TY",
    "pycharm": {
     "name": "#%% md\n"
    }
   },
   "source": [
    "## Завдання"
   ]
  },
  {
   "cell_type": "markdown",
   "metadata": {
    "id": "BiWG1gAq9C5S",
    "pycharm": {
     "name": "#%% md\n"
    }
   },
   "source": [
    "1. Завантажити дані згідно варіанту.\n",
    "2. Побудувати графік, що відображає розподіл ознак в групах. \n",
    "3. Написати функцію, що оцінює зв'язок між ознакою та групою за критерієм Пірсона. Функція має оцінювати розбіжність на двох рівнях - 0,001 та 0,05, в залежністі від параметру significant_level, що передається в неї.\n",
    "Врахувати у функції випадок, що сума частот ознаки у групах може бути відмінною.\n",
    "4. Перевірити розбіжність на між групами на даних з п. 1. В результаті сформувати таблицю спряженості наступного вигляду (n - кількість спостережень за певною комбінацією):\n",
    "\n",
    "Ознака  | Група 1 | Група 2  | \n",
    "------------- | ------------- |--------- |\n",
    "Градація ознаки 1  | $n_{11}  $   | $n_{21}$   |\n",
    "Градація ознаки 2  | $n_{12}$   | $n_{22}$   |\n",
    "Градація ознаки 3  | $n_{13}$   | $n_{23}$   |\n",
    "\n",
    "Додати до таблиці стовбчики з відсотовим розподілом по градаціям всередині груп.\n",
    "\n",
    "5. Зробити висновок про розбіжність/схожість груп. У висновку необхідно сформувати нульову та альтернативну гіпотези, надати описову статистику груп (кількість та відсоток) та навести результати роботи критерію (яка гіпотеза була прийнята).\n",
    "\n",
    "Приклад:\n",
    "За результатами дослідження була перевірена розбіжність між групами пацієнтів (вказати якими групами) за ознакою (вказати ознаку). Було сформовано дві гіпотези:\n",
    "\n",
    "н0 - нульова гіпотеза (пишемо гіпотезу)\n",
    "\n",
    "н1 - альтернативна гіпотеза (пишемо гіпотезу)\n",
    "\n",
    "При аналізі даних виявилось, що дані були розподілені наступним чином. В групі 1 (назва групи) переважали .... і т.д. (За описом має бути представлення про групи).\n",
    "\n",
    "В результаті роботи критерію Пірсона отримана значимість ..., що згідно таблиці критичних значень дозволяє ствердувати що підтвердилась нульова/альтернативна гіпотеза."
   ]
  },
  {
   "cell_type": "code",
   "execution_count": 83,
   "metadata": {
    "ExecuteTime": {
     "end_time": "2023-05-06T14:45:58.193774Z",
     "start_time": "2023-05-06T14:45:58.190544Z"
    }
   },
   "outputs": [],
   "source": [
    "import pandas as pd\n",
    "import numpy as np\n",
    "import matplotlib.pyplot as plt\n",
    "import scipy.stats as stats\n",
    "from copy import deepcopy"
   ]
  },
  {
   "cell_type": "code",
   "execution_count": 2,
   "metadata": {
    "ExecuteTime": {
     "end_time": "2023-05-06T13:46:17.237550Z",
     "start_time": "2023-05-06T13:46:17.226080Z"
    }
   },
   "outputs": [],
   "source": [
    "dtype = {'Age-group' : 'category',\n",
    "        'FastingBS' : 'category'}\n",
    "data = pd.read_csv('heart.csv', \n",
    "                   dtype=dtype,\n",
    "                   usecols=['Age-group', 'FastingBS'])"
   ]
  },
  {
   "cell_type": "code",
   "execution_count": 3,
   "metadata": {
    "ExecuteTime": {
     "end_time": "2023-05-06T13:46:18.008806Z",
     "start_time": "2023-05-06T13:46:17.993123Z"
    }
   },
   "outputs": [
    {
     "data": {
      "text/html": [
       "<div>\n",
       "<style scoped>\n",
       "    .dataframe tbody tr th:only-of-type {\n",
       "        vertical-align: middle;\n",
       "    }\n",
       "\n",
       "    .dataframe tbody tr th {\n",
       "        vertical-align: top;\n",
       "    }\n",
       "\n",
       "    .dataframe thead th {\n",
       "        text-align: right;\n",
       "    }\n",
       "</style>\n",
       "<table border=\"1\" class=\"dataframe\">\n",
       "  <thead>\n",
       "    <tr style=\"text-align: right;\">\n",
       "      <th></th>\n",
       "      <th>Age-group</th>\n",
       "      <th>FastingBS</th>\n",
       "    </tr>\n",
       "  </thead>\n",
       "  <tbody>\n",
       "    <tr>\n",
       "      <th>0</th>\n",
       "      <td>45-55</td>\n",
       "      <td>N</td>\n",
       "    </tr>\n",
       "    <tr>\n",
       "      <th>1</th>\n",
       "      <td>56-65</td>\n",
       "      <td>N</td>\n",
       "    </tr>\n",
       "    <tr>\n",
       "      <th>2</th>\n",
       "      <td>56-65</td>\n",
       "      <td>Y</td>\n",
       "    </tr>\n",
       "    <tr>\n",
       "      <th>3</th>\n",
       "      <td>56-65</td>\n",
       "      <td>Y</td>\n",
       "    </tr>\n",
       "    <tr>\n",
       "      <th>4</th>\n",
       "      <td>56-65</td>\n",
       "      <td>Y</td>\n",
       "    </tr>\n",
       "    <tr>\n",
       "      <th>5</th>\n",
       "      <td>More 65</td>\n",
       "      <td>N</td>\n",
       "    </tr>\n",
       "    <tr>\n",
       "      <th>6</th>\n",
       "      <td>56-65</td>\n",
       "      <td>Y</td>\n",
       "    </tr>\n",
       "    <tr>\n",
       "      <th>7</th>\n",
       "      <td>56-65</td>\n",
       "      <td>N</td>\n",
       "    </tr>\n",
       "    <tr>\n",
       "      <th>8</th>\n",
       "      <td>45-55</td>\n",
       "      <td>N</td>\n",
       "    </tr>\n",
       "    <tr>\n",
       "      <th>9</th>\n",
       "      <td>56-65</td>\n",
       "      <td>Y</td>\n",
       "    </tr>\n",
       "  </tbody>\n",
       "</table>\n",
       "</div>"
      ],
      "text/plain": [
       "  Age-group FastingBS\n",
       "0     45-55         N\n",
       "1     56-65         N\n",
       "2     56-65         Y\n",
       "3     56-65         Y\n",
       "4     56-65         Y\n",
       "5   More 65         N\n",
       "6     56-65         Y\n",
       "7     56-65         N\n",
       "8     45-55         N\n",
       "9     56-65         Y"
      ]
     },
     "execution_count": 3,
     "metadata": {},
     "output_type": "execute_result"
    }
   ],
   "source": [
    "data.head(10)"
   ]
  },
  {
   "cell_type": "code",
   "execution_count": 99,
   "metadata": {
    "ExecuteTime": {
     "end_time": "2023-05-06T14:59:35.037144Z",
     "start_time": "2023-05-06T14:59:35.029284Z"
    }
   },
   "outputs": [],
   "source": [
    "param1_amounts = data.groupby(data.columns[0]).count()\n",
    "param2_amounts = data.groupby(data.columns[1]).count()"
   ]
  },
  {
   "cell_type": "code",
   "execution_count": 75,
   "metadata": {
    "ExecuteTime": {
     "end_time": "2023-05-06T14:39:24.781614Z",
     "start_time": "2023-05-06T14:39:24.691998Z"
    }
   },
   "outputs": [
    {
     "data": {
      "image/png": "[encoded data removed]",
      "text/plain": [
       "<Figure size 900x500 with 2 Axes>"
      ]
     },
     "metadata": {},
     "output_type": "display_data"
    }
   ],
   "source": [
    "fig, (ax1, ax2) = plt.subplots(1, 2, figsize=(9, 5))\n",
    "ax1.pie(list(param1_amounts[param1_amounts.columns[0]]), labels=list(param1_amounts.index), shadow=True)\n",
    "ax1.set_title(param2_amounts.columns[0])\n",
    "ax2.pie(list(param2_amounts[param2_amounts.columns[0]]), labels=list(param2_amounts.index), shadow=True)\n",
    "ax2.set_title(param1_amounts.columns[0])\n",
    "plt.show()"
   ]
  },
  {
   "cell_type": "code",
   "execution_count": 100,
   "metadata": {
    "ExecuteTime": {
     "end_time": "2023-05-06T15:01:56.676562Z",
     "start_time": "2023-05-06T15:01:56.671832Z"
    }
   },
   "outputs": [],
   "source": [
    "def swap_rows(df, row1, row2):\n",
    "    df.iloc[row1], df.iloc[row2] =  df.iloc[row2].copy(), df.iloc[row1].copy()\n",
    "    return df"
   ]
  },
  {
   "cell_type": "code",
   "execution_count": 130,
   "metadata": {
    "ExecuteTime": {
     "end_time": "2023-05-06T15:14:50.564767Z",
     "start_time": "2023-05-06T15:14:50.546316Z"
    },
    "scrolled": false
   },
   "outputs": [],
   "source": [
    "def Pirson(significant_level, data):\n",
    "    param1, param2 = data.columns[0], data.columns[1]\n",
    "    critical_values = pd.read_excel('Критичні значення.xlsx')\n",
    "\n",
    "    match significant_level:\n",
    "        case 0.01:\n",
    "            critical_values = list(critical_values.iloc[1:,1])\n",
    "        case 0.05:\n",
    "            critical_values = list(critical_values.iloc[1:,2])\n",
    "        case _:\n",
    "            raise ValueError('Wrong value of significant_level!')\n",
    "    \n",
    "    df = data.groupby([param1, param2]).size().unstack()\n",
    "\n",
    "    df = swap_rows(df, 1, 2)\n",
    "    df = swap_rows(df, 0, 1)\n",
    "    df.index = [df.index[2], df.index[0], df.index[1], df.index[3]]\n",
    "\n",
    "    df_prsnts = deepcopy(df)\n",
    "    df_prsnts[f'{df.columns[0]}%'] = [round(value*100/sum(df_prsnts.iloc[:,0]), 2) for value in df_prsnts.iloc[:,0]]\n",
    "    df_prsnts[f'{df.columns[1]}%'] = [round(value*100/sum(df_prsnts.iloc[:,1]), 2) for value in df_prsnts.iloc[:,1]]\n",
    "    \n",
    "    display(df_prsnts)\n",
    "    \n",
    "    c_d = 0.2 # c_d% of the difference allowed\n",
    "    if abs(sum(df.iloc[:, 1]) - sum(df.iloc[:, 0])) > 0.2 * max(sum(df.iloc[:, 1]), sum(df.iloc[:, 0])):\n",
    "        # Difference between amount of samples is critical. Make it normal.\n",
    "        \n",
    "        norm = f'Norm {df.columns[1]}'\n",
    "        df[norm] = [round((i*sum(df.iloc[:, 0]))/sum(df.iloc[:, 1]), 1) for i in list(df.iloc[:, 1])]\n",
    "        df['(ne_i - nt_i)^2'] = [(df.iloc[i, 0] - df.iloc[i, 2])**2 for i in range(len(df[norm]))]\n",
    "        df['((ne_i - nt_i)^2)/nt_i'] = [((df.iloc[i, 0] - df.iloc[i, 2])**2)/df.iloc[i, 2] for i in range(len(df[norm]))]\n",
    "        df.loc['Sum'] = [sum(df.iloc[:, i]) for i in range(len(df.columns))]\n",
    "    else:\n",
    "        df['(ne_i - nt_i)^2'] = [(df.iloc[i, 0] - df.iloc[i, 1])**2 for i in range(len(df.iloc[i, 1]))]\n",
    "        df['((ne_i - nt_i)^2)/nt_i'] = [((df.iloc[i, 0] - df.iloc[i,1])**2)/df.iloc[i, 1] for i in range(len(df.iloc[:, 1]))]\n",
    "        df.loc['Sum'] = [sum(df.iloc[:, i]) for i in range(len(df.columns))]\n",
    "    \n",
    "    display(df)\n",
    "    X_2 = sum(df.iloc[0:-1,-1])\n",
    "    r = len(df.columns) - 2 # because of sum row\n",
    "    print(f\"My func        X^2 = {round(X_2, 2)}\")\n",
    "    X_2_scipy = stats.chisquare(f_obs=list(df.iloc[:, 0]), f_exp=list(df[norm]))[0]\n",
    "    print(f\"Scipy func     X^2 = {round(X_2_scipy, 2)}\")\n",
    "    print(f\"r = {r}\")\n",
    "    \n",
    "    X_2_cr = critical_values[r-1]\n",
    "    \n",
    "    print(f'X_2_critical = {X_2_cr}')\n",
    "    \n",
    "    print('There is no connection between the groups') if X_2 > X_2_cr else print('There is a connection between the groups')\n",
    "    \n",
    "    "
   ]
  },
  {
   "cell_type": "code",
   "execution_count": 133,
   "metadata": {
    "ExecuteTime": {
     "end_time": "2023-05-06T15:55:34.780338Z",
     "start_time": "2023-05-06T15:55:34.750702Z"
    },
    "scrolled": false
   },
   "outputs": [
    {
     "data": {
      "text/html": [
       "<div>\n",
       "<style scoped>\n",
       "    .dataframe tbody tr th:only-of-type {\n",
       "        vertical-align: middle;\n",
       "    }\n",
       "\n",
       "    .dataframe tbody tr th {\n",
       "        vertical-align: top;\n",
       "    }\n",
       "\n",
       "    .dataframe thead th {\n",
       "        text-align: right;\n",
       "    }\n",
       "</style>\n",
       "<table border=\"1\" class=\"dataframe\">\n",
       "  <thead>\n",
       "    <tr style=\"text-align: right;\">\n",
       "      <th>FastingBS</th>\n",
       "      <th>N</th>\n",
       "      <th>Y</th>\n",
       "      <th>N%</th>\n",
       "      <th>Y%</th>\n",
       "    </tr>\n",
       "  </thead>\n",
       "  <tbody>\n",
       "    <tr>\n",
       "      <th>Less 45</th>\n",
       "      <td>160</td>\n",
       "      <td>18</td>\n",
       "      <td>22.76</td>\n",
       "      <td>8.41</td>\n",
       "    </tr>\n",
       "    <tr>\n",
       "      <th>45-55</th>\n",
       "      <td>269</td>\n",
       "      <td>64</td>\n",
       "      <td>38.26</td>\n",
       "      <td>29.91</td>\n",
       "    </tr>\n",
       "    <tr>\n",
       "      <th>56-65</th>\n",
       "      <td>221</td>\n",
       "      <td>103</td>\n",
       "      <td>31.44</td>\n",
       "      <td>48.13</td>\n",
       "    </tr>\n",
       "    <tr>\n",
       "      <th>More 65</th>\n",
       "      <td>53</td>\n",
       "      <td>29</td>\n",
       "      <td>7.54</td>\n",
       "      <td>13.55</td>\n",
       "    </tr>\n",
       "  </tbody>\n",
       "</table>\n",
       "</div>"
      ],
      "text/plain": [
       "FastingBS    N    Y     N%     Y%\n",
       "Less 45    160   18  22.76   8.41\n",
       "45-55      269   64  38.26  29.91\n",
       "56-65      221  103  31.44  48.13\n",
       "More 65     53   29   7.54  13.55"
      ]
     },
     "metadata": {},
     "output_type": "display_data"
    },
    {
     "data": {
      "text/html": [
       "<div>\n",
       "<style scoped>\n",
       "    .dataframe tbody tr th:only-of-type {\n",
       "        vertical-align: middle;\n",
       "    }\n",
       "\n",
       "    .dataframe tbody tr th {\n",
       "        vertical-align: top;\n",
       "    }\n",
       "\n",
       "    .dataframe thead th {\n",
       "        text-align: right;\n",
       "    }\n",
       "</style>\n",
       "<table border=\"1\" class=\"dataframe\">\n",
       "  <thead>\n",
       "    <tr style=\"text-align: right;\">\n",
       "      <th>FastingBS</th>\n",
       "      <th>N</th>\n",
       "      <th>Y</th>\n",
       "      <th>Norm Y</th>\n",
       "      <th>(ne_i - nt_i)^2</th>\n",
       "      <th>((ne_i - nt_i)^2)/nt_i</th>\n",
       "    </tr>\n",
       "  </thead>\n",
       "  <tbody>\n",
       "    <tr>\n",
       "      <th>Less 45</th>\n",
       "      <td>160.0</td>\n",
       "      <td>18.0</td>\n",
       "      <td>59.1</td>\n",
       "      <td>10180.81</td>\n",
       "      <td>172.264129</td>\n",
       "    </tr>\n",
       "    <tr>\n",
       "      <th>45-55</th>\n",
       "      <td>269.0</td>\n",
       "      <td>64.0</td>\n",
       "      <td>210.2</td>\n",
       "      <td>3457.44</td>\n",
       "      <td>16.448335</td>\n",
       "    </tr>\n",
       "    <tr>\n",
       "      <th>56-65</th>\n",
       "      <td>221.0</td>\n",
       "      <td>103.0</td>\n",
       "      <td>338.4</td>\n",
       "      <td>13782.76</td>\n",
       "      <td>40.729196</td>\n",
       "    </tr>\n",
       "    <tr>\n",
       "      <th>More 65</th>\n",
       "      <td>53.0</td>\n",
       "      <td>29.0</td>\n",
       "      <td>95.3</td>\n",
       "      <td>1789.29</td>\n",
       "      <td>18.775341</td>\n",
       "    </tr>\n",
       "    <tr>\n",
       "      <th>Sum</th>\n",
       "      <td>703.0</td>\n",
       "      <td>214.0</td>\n",
       "      <td>703.0</td>\n",
       "      <td>29210.30</td>\n",
       "      <td>248.217001</td>\n",
       "    </tr>\n",
       "  </tbody>\n",
       "</table>\n",
       "</div>"
      ],
      "text/plain": [
       "FastingBS      N      Y  Norm Y  (ne_i - nt_i)^2  ((ne_i - nt_i)^2)/nt_i\n",
       "Less 45    160.0   18.0    59.1         10180.81              172.264129\n",
       "45-55      269.0   64.0   210.2          3457.44               16.448335\n",
       "56-65      221.0  103.0   338.4         13782.76               40.729196\n",
       "More 65     53.0   29.0    95.3          1789.29               18.775341\n",
       "Sum        703.0  214.0   703.0         29210.30              248.217001"
      ]
     },
     "metadata": {},
     "output_type": "display_data"
    },
    {
     "name": "stdout",
     "output_type": "stream",
     "text": [
      "My func        X^2 = 248.22\n",
      "Scipy func     X^2 = 248.22\n",
      "r = 3\n",
      "X_2_critical = 11.3\n",
      "There is no connection between the groups\n"
     ]
    }
   ],
   "source": [
    "Pirson(0.01, data)"
   ]
  },
  {
   "cell_type": "markdown",
   "metadata": {},
   "source": [
    "# Висновок"
   ]
  },
  {
   "cell_type": "markdown",
   "metadata": {},
   "source": [
    "За результатами дослідження була перевірена розбіжність між пацієнтами, котрі притримуються (або ні) посту за їх віковою приналежністю. Було сформовано дві гіпотези:\n",
    "\n",
    "н0 - нульова гіпотеза полягає в тому, що вік людини не впливає на її рішення притримуватися посту чи ні\n",
    "\n",
    "н1 - альтернативна гіпотеза полягає в тому, що вік людини впливає на її рішення притримуватися посту чи ні\n",
    "\n",
    "При аналізі даних виявилось, що дані були розподілені наступним чином. В групі людей, котрі притримувалися посту майже 50% були 56-65 літніми, третина мала вік 45-55 років, у той час як менше всього було людей, котрі молодші за 45 років. У другій групі розподіл був критично іншим. 38% групи мали 45-55 років від народження, третина - 56-65. Найменшою за кількістю представників стала категорія літніх людей > 65 років.\n",
    "\n",
    "В результаті роботи критерію Пірсона отримана значимість 248.22, що згідно таблиці критичних значень дозволяє ствердувати що підтвердилась альтернативна гіпотеза.\n",
    "    "
   ]
  }
 ],
 "metadata": {
  "colab": {
   "provenance": []
  },
  "kernelspec": {
   "display_name": "Python 3 (ipykernel)",
   "language": "python",
   "name": "python3"
  },
  "language_info": {
   "codemirror_mode": {
    "name": "ipython",
    "version": 3
   },
   "file_extension": ".py",
   "mimetype": "text/x-python",
   "name": "python",
   "nbconvert_exporter": "python",
   "pygments_lexer": "ipython3",
   "version": "3.11.3"
  }
 },
 "nbformat": 4,
 "nbformat_minor": 1
}
