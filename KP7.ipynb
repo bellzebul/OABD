{
 "cells": [
  {
   "cell_type": "markdown",
   "metadata": {
    "colab_type": "text",
    "id": "weuwGEo2mJBC"
   },
   "source": [
    "# Дисперсійний аналіз"
   ]
  },
  {
   "cell_type": "markdown",
   "metadata": {
    "colab_type": "text",
    "id": "ZUzN4OAhmxkD"
   },
   "source": [
    "##Теоретичні відомості"
   ]
  },
  {
   "cell_type": "markdown",
   "metadata": {
    "colab_type": "text",
    "id": "GCJ4px_JmMeY"
   },
   "source": [
    "**Дисперсійний аналіз** - статистичний метод дослідження взаємозв'язку. Застосовується для аналізу впливу якісної змінної  на одну залежну (кількісну) змінну.\n",
    "В основі дисперсійного аналізу лежить припущення, що одні змінні можливо розглядати як причини (незалежні змінні), інші - як наслідки (залежні змінні). Незалежні змінні в дисперсійному аналізі називають факторами.\n",
    " У зарубежній літературі дисперсійний аналіз часто обозначається як ANOVA, що переводиться як аналіз варіативності (Analysis of Variance).\n",
    "\n",
    "Дисперсійний аналіз - параметричний метод.\n",
    "\n",
    "\n"
   ]
  },
  {
   "cell_type": "markdown",
   "metadata": {
    "colab_type": "text",
    "id": "t1MGzbZKm0QY"
   },
   "source": [
    "### Область застосування"
   ]
  },
  {
   "cell_type": "markdown",
   "metadata": {
    "colab_type": "text",
    "id": "u6P7khWWm16u"
   },
   "source": [
    "ANOVA використовують для визначення статистичних відмінностей у *середніх* значення двох або більше групп."
   ]
  },
  {
   "cell_type": "markdown",
   "metadata": {
    "colab_type": "text",
    "id": "LOW2EJNpm5oi"
   },
   "source": [
    "### Вимоги до даних"
   ]
  },
  {
   "cell_type": "markdown",
   "metadata": {
    "colab_type": "text",
    "id": "ldtCTT-2m6tf"
   },
   "source": [
    "Ваші дані повинні відповідати наступним вимогам:\n",
    "1. Залежна змінна має бути безперервною (кількісною).\n",
    "2. Незалежна змінна має бути категоріальною (містити дві або більше груп).\n",
    "3. Групи є незалежними.\n",
    "4. Залежна змінна має нормальний розподіл.\n",
    "5. Однорідність дисперсій. Групи мають приблизно однакові дисперсії.\n",
    "6. Залежна змінна не містить викидів.\n",
    "7. Кожна група має містити принаймні 6 спостережень.\n",
    "8. Сбалансований дизайн. В ідеалі, групи мають бути однаковими за розміром.\n"
   ]
  },
  {
   "cell_type": "markdown",
   "metadata": {
    "colab_type": "text",
    "id": "zcDHzLIZm6_R"
   },
   "source": [
    "### Гіпотеза"
   ]
  },
  {
   "cell_type": "markdown",
   "metadata": {
    "colab_type": "text",
    "id": "pYFVPpI6m899"
   },
   "source": [
    "Гіпотеза, яка перевіряєть даним тестом може бути виражена наступним чином:\n",
    "\n",
    "$H_0 : μ_1  = μ_2 = ... =  μ_n $ («середні  незалежних груп рівні»)\n",
    "\n",
    "$H_1 : μ_1  ≠ μ_2 ≠ ... ≠ μ_n$ («середні  незалежних груп відмінні»)"
   ]
  },
  {
   "cell_type": "markdown",
   "metadata": {
    "colab_type": "text",
    "id": "zo71OMQ6m9HF"
   },
   "source": [
    "### Алгоритм розрахунку"
   ]
  },
  {
   "cell_type": "markdown",
   "metadata": {
    "colab_type": "text",
    "id": "XWDrm4xAnDiE"
   },
   "source": [
    "Припустимо, що є три незалежні групи кожна з яких пройшла тест на запам'ятовування 10 слів. Першій групі слова демонструвалися з низькою швидкістю - 1 слово в 5 секунд, другій  з середньою швидкістю - 1 слово в 2 секунди, і третій групі з великою швидкістю - 1 слово в секунду.\n",
    "\n",
    "Прикладом задачі, яка вирішується методом дисперсійного аналізу є аналіз впливу швидкості демонстрації слів на результат тесту. \n",
    "\n",
    "n  | Група 1 (низька швидкість) | Група 2 (середня швидкість) | Група 3 (висока швидкість) |\n",
    "------------- | ------------- |--------- | ------------- | \n",
    "1  | 8   | 7   | 4   | \n",
    "2  | 7   | 8   |5   | \n",
    "3  | 9   | 5   |3   |\n",
    "4  | 5   | 4   |6   | \n",
    "5  | 6  | 6   |2  |  \n",
    "6  | 8   | 7  |4  | \n",
    "Сума  | 43   | 37  |24   |\n",
    "Середні  | 7,17   | 3,17   |4  | \n",
    "\n",
    "Загальна сума - 104\n",
    "\n",
    "Основні величини для однофакторного дисперсійного аналізу:\n",
    "1. $T_c$, cуми індивідуальних значень по кожнії з груп: 43, 37, 24.\n",
    "2. $\\sum{T^2_c}$,  cума квадратів сумарних значень по кожній з груп: $43^2 +  37^2 + 24^2 = 3794$\n",
    "3. $c$, кількість умов (градацій фактора/ груп): 3\n",
    "4. $n$, кількість досліджень в групах: 6, 6, 6.\n",
    "5. $N$, загальна кількість досліджень: 18.\n",
    "6. $(\\sum{x_i})^2$, квадрат загальної суми індивідуальних значень: 10 816\n",
    "7. $\\frac{(\\sum{x_i})^2}{N}$,Константа, яку потрібно відняти від кожної суми квадратів:  600,9\n",
    "8. $x_i$, індивідуальне значення\n",
    "9. $\\sum({x_i}^2)$, сума квадратів індивідуальних значень.\n",
    "\n",
    "\n",
    "Тоді, послідовність операцій в однофакторному дисперсійному аналізі виглядає наступним чином:\n",
    "1. Розрахувати внутрішньогрупову дисперсію ($SS_{факт}$).\n",
    "\n",
    "$$ SS_{факт}  = \\frac{\\sum{T^2_c}}{n} - \\frac{(\\sum{x_i})^2}{N} = \\frac{3794}{6} - \\frac{10 816}{18} = 31,44$$\n",
    "\n",
    "2. Розрахувати загальногрупову дисперсію ($SS_{заг}$).\n",
    "$$ SS_{заг} = \\sum({x_i}^2) - \\frac{(\\sum{x_i})^2}{N} =  8^2+7^2+9^2+5^2+6^2+8^2+7^2+7^2+8^2+5^2+ 4^2+ 6^2+ 7^2+ 4^2+ 5^2+ 3^2+ 6^2+ 2^2+ 4^2 - \\frac{104^2}{18} = 63,11$$\n",
    "\n",
    "3. Розрахувати випадкову (залишкову) величину $SS_{вип}$\n",
    "$$ SS_{вип} = SS_{заг} - SS_{факт} = 63,11 -31,44 = 31,67 $$\n",
    "\n",
    "4. Визначити кількість ступенів свободи:\n",
    "$$d_{факт} = c - 1 = 3 - 1 = 2$$\n",
    "$$d_{заг} = N - 1 = 18 - 1 = 17$$\n",
    "$$d_{вип} = d_{заг} - d_{факт} = 17 - 2 = 15$$\n",
    "\n",
    "5. Розділити кожну SS на відповідне число ступенів свободи:\n",
    "$$MS_{факт} = \\frac{SS_{факт}}{d_{факт}} = \\frac{31,44}{2} = 15,72$$\n",
    "$$MS_{вип} = \\frac{SS_{вип}}{d_{вип}} = \\frac{31,67}{15} = 2,11$$\n",
    "\n",
    "6. Розрахувати значення $F_{емпір}$\n",
    "$$ F_{емпір} = \\frac{MS_{факт}}{MS_{вип}} = \\frac{15,72}{2,11} = 7,45 $$\n",
    "\n",
    "7. Визначити критичне значення F по таблиці критичних значень: \n",
    "\n",
    "$$F_{крит(2,15)} = 3,7 $$\n",
    "\n",
    "8. Співставити емпіричне та критичне значення F.\n",
    "\n",
    "При $F_{емпір} \\geq F_{крит(2,15)}$ нульова гіпотеза про рівність середніх відхиляється.\n",
    "\n",
    "$$7,45 > 3,7$$ - рівність середніх не підтверджена.\n"
   ]
  },
  {
   "cell_type": "markdown",
   "metadata": {
    "colab_type": "text",
    "id": "9qiU_OebnDpv"
   },
   "source": [
    "### Завдання"
   ]
  },
  {
   "cell_type": "markdown",
   "metadata": {
    "colab_type": "text",
    "id": "NlTSSN6x6yTz"
   },
   "source": [
    "1. Розрахувати та вивести у вигляді таблиці статистичні характиристики даних (середні та стандартні відхилення для кожної з груп).\n",
    "2. Побудувати графік розкиду в групах.\n",
    "3. Побудувати функцію, що реалізовує однофакторний дисперсійний аналіз.\n",
    "4. Вивести результати розрахунку кожного з етапів вказаних вище у вигляді таблиці.\n",
    "5. Перевірити результат роботи функції на реальних або сгенерованих даних. Зробити висновок."
   ]
  },
  {
   "cell_type": "code",
   "execution_count": 271,
   "metadata": {
    "ExecuteTime": {
     "end_time": "2023-05-10T19:28:52.441944Z",
     "start_time": "2023-05-10T19:28:52.434771Z"
    }
   },
   "outputs": [],
   "source": [
    "import pandas as pd\n",
    "import numpy as np\n",
    "import matplotlib.pyplot as plt\n",
    "import seaborn as sns\n",
    "import random"
   ]
  },
  {
   "cell_type": "code",
   "execution_count": 272,
   "metadata": {
    "ExecuteTime": {
     "end_time": "2023-05-10T19:28:52.728565Z",
     "start_time": "2023-05-10T19:28:52.697548Z"
    }
   },
   "outputs": [],
   "source": [
    "data = pd.read_csv('ds_salaries.csv', usecols=['job_title', 'salary_in_usd'])"
   ]
  },
  {
   "cell_type": "code",
   "execution_count": 273,
   "metadata": {
    "ExecuteTime": {
     "end_time": "2023-05-10T19:28:53.136733Z",
     "start_time": "2023-05-10T19:28:53.119042Z"
    }
   },
   "outputs": [
    {
     "data": {
      "text/html": [
       "<div>\n",
       "<style scoped>\n",
       "    .dataframe tbody tr th:only-of-type {\n",
       "        vertical-align: middle;\n",
       "    }\n",
       "\n",
       "    .dataframe tbody tr th {\n",
       "        vertical-align: top;\n",
       "    }\n",
       "\n",
       "    .dataframe thead th {\n",
       "        text-align: right;\n",
       "    }\n",
       "</style>\n",
       "<table border=\"1\" class=\"dataframe\">\n",
       "  <thead>\n",
       "    <tr style=\"text-align: right;\">\n",
       "      <th></th>\n",
       "      <th>job_title</th>\n",
       "      <th>salary_in_usd</th>\n",
       "    </tr>\n",
       "  </thead>\n",
       "  <tbody>\n",
       "    <tr>\n",
       "      <th>0</th>\n",
       "      <td>Principal Data Scientist</td>\n",
       "      <td>85847</td>\n",
       "    </tr>\n",
       "    <tr>\n",
       "      <th>1</th>\n",
       "      <td>ML Engineer</td>\n",
       "      <td>30000</td>\n",
       "    </tr>\n",
       "    <tr>\n",
       "      <th>2</th>\n",
       "      <td>ML Engineer</td>\n",
       "      <td>25500</td>\n",
       "    </tr>\n",
       "    <tr>\n",
       "      <th>3</th>\n",
       "      <td>Data Scientist</td>\n",
       "      <td>175000</td>\n",
       "    </tr>\n",
       "    <tr>\n",
       "      <th>4</th>\n",
       "      <td>Data Scientist</td>\n",
       "      <td>120000</td>\n",
       "    </tr>\n",
       "    <tr>\n",
       "      <th>...</th>\n",
       "      <td>...</td>\n",
       "      <td>...</td>\n",
       "    </tr>\n",
       "    <tr>\n",
       "      <th>3750</th>\n",
       "      <td>Data Scientist</td>\n",
       "      <td>412000</td>\n",
       "    </tr>\n",
       "    <tr>\n",
       "      <th>3751</th>\n",
       "      <td>Principal Data Scientist</td>\n",
       "      <td>151000</td>\n",
       "    </tr>\n",
       "    <tr>\n",
       "      <th>3752</th>\n",
       "      <td>Data Scientist</td>\n",
       "      <td>105000</td>\n",
       "    </tr>\n",
       "    <tr>\n",
       "      <th>3753</th>\n",
       "      <td>Business Data Analyst</td>\n",
       "      <td>100000</td>\n",
       "    </tr>\n",
       "    <tr>\n",
       "      <th>3754</th>\n",
       "      <td>Data Science Manager</td>\n",
       "      <td>94665</td>\n",
       "    </tr>\n",
       "  </tbody>\n",
       "</table>\n",
       "<p>3755 rows × 2 columns</p>\n",
       "</div>"
      ],
      "text/plain": [
       "                     job_title  salary_in_usd\n",
       "0     Principal Data Scientist          85847\n",
       "1                  ML Engineer          30000\n",
       "2                  ML Engineer          25500\n",
       "3               Data Scientist         175000\n",
       "4               Data Scientist         120000\n",
       "...                        ...            ...\n",
       "3750            Data Scientist         412000\n",
       "3751  Principal Data Scientist         151000\n",
       "3752            Data Scientist         105000\n",
       "3753     Business Data Analyst         100000\n",
       "3754      Data Science Manager          94665\n",
       "\n",
       "[3755 rows x 2 columns]"
      ]
     },
     "execution_count": 273,
     "metadata": {},
     "output_type": "execute_result"
    }
   ],
   "source": [
    "data"
   ]
  },
  {
   "cell_type": "code",
   "execution_count": 274,
   "metadata": {
    "ExecuteTime": {
     "end_time": "2023-05-10T19:29:01.641621Z",
     "start_time": "2023-05-10T19:29:01.629504Z"
    }
   },
   "outputs": [],
   "source": [
    "ind_prof = list(data.loc[(data['job_title'] != 'ML Engineer') \\\n",
    "                         & (data['job_title'] != 'Data Scientist')\\\n",
    "                         & (data['job_title'] != 'Data Analyst')].index)"
   ]
  },
  {
   "cell_type": "code",
   "execution_count": 275,
   "metadata": {
    "ExecuteTime": {
     "end_time": "2023-05-10T19:29:02.564621Z",
     "start_time": "2023-05-10T19:29:02.553132Z"
    }
   },
   "outputs": [],
   "source": [
    "data.drop(index = ind_prof, axis = 0, inplace=True)"
   ]
  },
  {
   "cell_type": "code",
   "execution_count": 276,
   "metadata": {
    "ExecuteTime": {
     "end_time": "2023-05-10T19:29:03.209383Z",
     "start_time": "2023-05-10T19:29:03.174176Z"
    }
   },
   "outputs": [
    {
     "data": {
      "text/html": [
       "<div>\n",
       "<style scoped>\n",
       "    .dataframe tbody tr th:only-of-type {\n",
       "        vertical-align: middle;\n",
       "    }\n",
       "\n",
       "    .dataframe tbody tr th {\n",
       "        vertical-align: top;\n",
       "    }\n",
       "\n",
       "    .dataframe thead tr th {\n",
       "        text-align: left;\n",
       "    }\n",
       "\n",
       "    .dataframe thead tr:last-of-type th {\n",
       "        text-align: right;\n",
       "    }\n",
       "</style>\n",
       "<table border=\"1\" class=\"dataframe\">\n",
       "  <thead>\n",
       "    <tr>\n",
       "      <th></th>\n",
       "      <th colspan=\"8\" halign=\"left\">salary_in_usd</th>\n",
       "    </tr>\n",
       "    <tr>\n",
       "      <th></th>\n",
       "      <th>count</th>\n",
       "      <th>mean</th>\n",
       "      <th>std</th>\n",
       "      <th>min</th>\n",
       "      <th>25%</th>\n",
       "      <th>50%</th>\n",
       "      <th>75%</th>\n",
       "      <th>max</th>\n",
       "    </tr>\n",
       "    <tr>\n",
       "      <th>job_title</th>\n",
       "      <th></th>\n",
       "      <th></th>\n",
       "      <th></th>\n",
       "      <th></th>\n",
       "      <th></th>\n",
       "      <th></th>\n",
       "      <th></th>\n",
       "      <th></th>\n",
       "    </tr>\n",
       "  </thead>\n",
       "  <tbody>\n",
       "    <tr>\n",
       "      <th>Data Analyst</th>\n",
       "      <td>612.0</td>\n",
       "      <td>108716.227124</td>\n",
       "      <td>46912.103453</td>\n",
       "      <td>5723.0</td>\n",
       "      <td>80000.0</td>\n",
       "      <td>106020.0</td>\n",
       "      <td>135000.0</td>\n",
       "      <td>430967.0</td>\n",
       "    </tr>\n",
       "    <tr>\n",
       "      <th>Data Scientist</th>\n",
       "      <td>840.0</td>\n",
       "      <td>140869.765476</td>\n",
       "      <td>60687.455494</td>\n",
       "      <td>5679.0</td>\n",
       "      <td>101967.5</td>\n",
       "      <td>141525.0</td>\n",
       "      <td>183310.0</td>\n",
       "      <td>412000.0</td>\n",
       "    </tr>\n",
       "    <tr>\n",
       "      <th>ML Engineer</th>\n",
       "      <td>34.0</td>\n",
       "      <td>158352.441176</td>\n",
       "      <td>76590.451265</td>\n",
       "      <td>15966.0</td>\n",
       "      <td>102500.0</td>\n",
       "      <td>160000.0</td>\n",
       "      <td>215875.0</td>\n",
       "      <td>289076.0</td>\n",
       "    </tr>\n",
       "  </tbody>\n",
       "</table>\n",
       "</div>"
      ],
      "text/plain": [
       "               salary_in_usd                                                  \\\n",
       "                       count           mean           std      min       25%   \n",
       "job_title                                                                      \n",
       "Data Analyst           612.0  108716.227124  46912.103453   5723.0   80000.0   \n",
       "Data Scientist         840.0  140869.765476  60687.455494   5679.0  101967.5   \n",
       "ML Engineer             34.0  158352.441176  76590.451265  15966.0  102500.0   \n",
       "\n",
       "                                              \n",
       "                     50%       75%       max  \n",
       "job_title                                     \n",
       "Data Analyst    106020.0  135000.0  430967.0  \n",
       "Data Scientist  141525.0  183310.0  412000.0  \n",
       "ML Engineer     160000.0  215875.0  289076.0  "
      ]
     },
     "execution_count": 276,
     "metadata": {},
     "output_type": "execute_result"
    }
   ],
   "source": [
    "data.groupby('job_title').describe()"
   ]
  },
  {
   "cell_type": "code",
   "execution_count": 277,
   "metadata": {
    "ExecuteTime": {
     "end_time": "2023-05-10T19:29:06.924509Z",
     "start_time": "2023-05-10T19:29:06.918284Z"
    }
   },
   "outputs": [],
   "source": [
    "data.sort_values(by='job_title', inplace=True)"
   ]
  },
  {
   "cell_type": "code",
   "execution_count": 297,
   "metadata": {
    "ExecuteTime": {
     "end_time": "2023-05-10T19:29:51.476530Z",
     "start_time": "2023-05-10T19:29:51.469397Z"
    }
   },
   "outputs": [],
   "source": [
    "data_analyst = list(data.loc[data['job_title'] == 'Data Analyst']['salary_in_usd'])\n",
    "data_scientist = list(data.loc[data['job_title'] == 'Data Scientist']['salary_in_usd'])\n",
    "ML = list(data.loc[data['job_title'] == 'ML Engineer']['salary_in_usd'])"
   ]
  },
  {
   "cell_type": "code",
   "execution_count": 298,
   "metadata": {
    "ExecuteTime": {
     "end_time": "2023-05-10T19:29:51.789293Z",
     "start_time": "2023-05-10T19:29:51.782532Z"
    }
   },
   "outputs": [],
   "source": [
    "cutted_data = pd.DataFrame({'Data Analyst': random.choices(data_analyst, k = len(ML)),\n",
    "                           'Data Scientist' : random.choices(data_scientist, k = len(ML)),\n",
    "                           'ML Engineer' : ML})\n",
    "                            "
   ]
  },
  {
   "cell_type": "code",
   "execution_count": 299,
   "metadata": {
    "ExecuteTime": {
     "end_time": "2023-05-10T19:29:52.493520Z",
     "start_time": "2023-05-10T19:29:52.484040Z"
    }
   },
   "outputs": [
    {
     "data": {
      "text/html": [
       "<div>\n",
       "<style scoped>\n",
       "    .dataframe tbody tr th:only-of-type {\n",
       "        vertical-align: middle;\n",
       "    }\n",
       "\n",
       "    .dataframe tbody tr th {\n",
       "        vertical-align: top;\n",
       "    }\n",
       "\n",
       "    .dataframe thead th {\n",
       "        text-align: right;\n",
       "    }\n",
       "</style>\n",
       "<table border=\"1\" class=\"dataframe\">\n",
       "  <thead>\n",
       "    <tr style=\"text-align: right;\">\n",
       "      <th></th>\n",
       "      <th>Data Analyst</th>\n",
       "      <th>Data Scientist</th>\n",
       "      <th>ML Engineer</th>\n",
       "    </tr>\n",
       "  </thead>\n",
       "  <tbody>\n",
       "    <tr>\n",
       "      <th>0</th>\n",
       "      <td>150000</td>\n",
       "      <td>136000</td>\n",
       "      <td>150000</td>\n",
       "    </tr>\n",
       "    <tr>\n",
       "      <th>1</th>\n",
       "      <td>153600</td>\n",
       "      <td>191475</td>\n",
       "      <td>220000</td>\n",
       "    </tr>\n",
       "    <tr>\n",
       "      <th>2</th>\n",
       "      <td>160000</td>\n",
       "      <td>275300</td>\n",
       "      <td>25500</td>\n",
       "    </tr>\n",
       "    <tr>\n",
       "      <th>3</th>\n",
       "      <td>135000</td>\n",
       "      <td>33246</td>\n",
       "      <td>131300</td>\n",
       "    </tr>\n",
       "    <tr>\n",
       "      <th>4</th>\n",
       "      <td>102640</td>\n",
       "      <td>149076</td>\n",
       "      <td>160000</td>\n",
       "    </tr>\n",
       "  </tbody>\n",
       "</table>\n",
       "</div>"
      ],
      "text/plain": [
       "   Data Analyst  Data Scientist  ML Engineer\n",
       "0        150000          136000       150000\n",
       "1        153600          191475       220000\n",
       "2        160000          275300        25500\n",
       "3        135000           33246       131300\n",
       "4        102640          149076       160000"
      ]
     },
     "execution_count": 299,
     "metadata": {},
     "output_type": "execute_result"
    }
   ],
   "source": [
    "cutted_data.head()"
   ]
  },
  {
   "cell_type": "code",
   "execution_count": 300,
   "metadata": {
    "ExecuteTime": {
     "end_time": "2023-05-10T19:29:52.949268Z",
     "start_time": "2023-05-10T19:29:52.930728Z"
    }
   },
   "outputs": [
    {
     "data": {
      "text/html": [
       "<div>\n",
       "<style scoped>\n",
       "    .dataframe tbody tr th:only-of-type {\n",
       "        vertical-align: middle;\n",
       "    }\n",
       "\n",
       "    .dataframe tbody tr th {\n",
       "        vertical-align: top;\n",
       "    }\n",
       "\n",
       "    .dataframe thead th {\n",
       "        text-align: right;\n",
       "    }\n",
       "</style>\n",
       "<table border=\"1\" class=\"dataframe\">\n",
       "  <thead>\n",
       "    <tr style=\"text-align: right;\">\n",
       "      <th></th>\n",
       "      <th>Data Analyst</th>\n",
       "      <th>Data Scientist</th>\n",
       "      <th>ML Engineer</th>\n",
       "    </tr>\n",
       "  </thead>\n",
       "  <tbody>\n",
       "    <tr>\n",
       "      <th>count</th>\n",
       "      <td>34.000000</td>\n",
       "      <td>34.000000</td>\n",
       "      <td>34.000000</td>\n",
       "    </tr>\n",
       "    <tr>\n",
       "      <th>mean</th>\n",
       "      <td>116012.117647</td>\n",
       "      <td>153353.911765</td>\n",
       "      <td>158352.441176</td>\n",
       "    </tr>\n",
       "    <tr>\n",
       "      <th>std</th>\n",
       "      <td>36427.550796</td>\n",
       "      <td>66751.577052</td>\n",
       "      <td>76590.451265</td>\n",
       "    </tr>\n",
       "    <tr>\n",
       "      <th>min</th>\n",
       "      <td>48000.000000</td>\n",
       "      <td>33246.000000</td>\n",
       "      <td>15966.000000</td>\n",
       "    </tr>\n",
       "    <tr>\n",
       "      <th>25%</th>\n",
       "      <td>94125.000000</td>\n",
       "      <td>108500.000000</td>\n",
       "      <td>102500.000000</td>\n",
       "    </tr>\n",
       "    <tr>\n",
       "      <th>50%</th>\n",
       "      <td>113500.000000</td>\n",
       "      <td>163500.000000</td>\n",
       "      <td>160000.000000</td>\n",
       "    </tr>\n",
       "    <tr>\n",
       "      <th>75%</th>\n",
       "      <td>150000.000000</td>\n",
       "      <td>190481.250000</td>\n",
       "      <td>215875.000000</td>\n",
       "    </tr>\n",
       "    <tr>\n",
       "      <th>max</th>\n",
       "      <td>175000.000000</td>\n",
       "      <td>275300.000000</td>\n",
       "      <td>289076.000000</td>\n",
       "    </tr>\n",
       "  </tbody>\n",
       "</table>\n",
       "</div>"
      ],
      "text/plain": [
       "        Data Analyst  Data Scientist    ML Engineer\n",
       "count      34.000000       34.000000      34.000000\n",
       "mean   116012.117647   153353.911765  158352.441176\n",
       "std     36427.550796    66751.577052   76590.451265\n",
       "min     48000.000000    33246.000000   15966.000000\n",
       "25%     94125.000000   108500.000000  102500.000000\n",
       "50%    113500.000000   163500.000000  160000.000000\n",
       "75%    150000.000000   190481.250000  215875.000000\n",
       "max    175000.000000   275300.000000  289076.000000"
      ]
     },
     "execution_count": 300,
     "metadata": {},
     "output_type": "execute_result"
    }
   ],
   "source": [
    "cutted_data.describe()"
   ]
  },
  {
   "cell_type": "code",
   "execution_count": 301,
   "metadata": {
    "ExecuteTime": {
     "end_time": "2023-05-10T19:29:53.542772Z",
     "start_time": "2023-05-10T19:29:53.450002Z"
    }
   },
   "outputs": [
    {
     "name": "stderr",
     "output_type": "stream",
     "text": [
      "/Users/bellzebull/miniforge3/envs/torch_3.11/lib/python3.11/site-packages/seaborn/categorical.py:82: FutureWarning: iteritems is deprecated and will be removed in a future version. Use .items instead.\n",
      "  plot_data = [np.asarray(s, float) for k, s in iter_data]\n"
     ]
    },
    {
     "data": {
      "text/plain": [
       "<Axes: >"
      ]
     },
     "execution_count": 301,
     "metadata": {},
     "output_type": "execute_result"
    },
    {
     "data": {
      "image/png": "[encoded data removed]",
      "text/plain": [
       "<Figure size 700x600 with 1 Axes>"
      ]
     },
     "metadata": {},
     "output_type": "display_data"
    }
   ],
   "source": [
    "fig = plt.figure(figsize=(7,6))\n",
    "sns.boxplot(data=cutted_data, width=0.5, orient='h')"
   ]
  },
  {
   "cell_type": "code",
   "execution_count": 302,
   "metadata": {
    "ExecuteTime": {
     "end_time": "2023-05-10T19:29:57.670396Z",
     "start_time": "2023-05-10T19:29:57.664738Z"
    }
   },
   "outputs": [],
   "source": [
    "def nearest_val(arr, target):\n",
    "    return min(arr, key=lambda x: abs(target - abs(x)))"
   ]
  },
  {
   "cell_type": "code",
   "execution_count": 303,
   "metadata": {
    "ExecuteTime": {
     "end_time": "2023-05-10T19:29:58.360033Z",
     "start_time": "2023-05-10T19:29:58.350039Z"
    }
   },
   "outputs": [],
   "source": [
    "def ANOVA(data):\n",
    "    c = len(data.columns)\n",
    "    Tc = [sum(data.iloc[:,i]) for i in range(c)]\n",
    "    Tc_2 = sum([i**2 for i in Tc])\n",
    "    n = len(data.iloc[:,0])\n",
    "    N = n * c\n",
    "    x_2 = sum(sum(x ** 2 for x in list(data[col])) for col in list(data.columns))\n",
    "    SS_fact = Tc_2/n - (sum(Tc)**2)/N\n",
    "    SS_all = x_2 - (sum(Tc)**2)/N\n",
    "    SS_rand = SS_all - SS_fact\n",
    "    \n",
    "    d_fact = c - 1\n",
    "    d_all = N - 1\n",
    "    d_rand = d_all - d_fact\n",
    "    \n",
    "    MS_fact = SS_fact/d_fact\n",
    "    \n",
    "    MS_rand = SS_rand/d_rand\n",
    "    \n",
    "    F_emp = MS_fact / MS_rand\n",
    "    \n",
    "    crit_df = pd.read_excel(' Таблиця критичних значень для критерію Фішера.xlsx', nrows=34)\n",
    "    df1 = list(crit_df.iloc[0,1:]).index(nearest_val(list(crit_df.iloc[0,1:]), d_fact)) + 1\n",
    "    df2 = list(crit_df.iloc[1:,0]).index(nearest_val(list(crit_df.iloc[1:,0]), d_rand)) + 1\n",
    "\n",
    "\n",
    "    F_cr = crit_df.iloc[df2,df1]\n",
    "\n",
    "    \n",
    "    result = pd.DataFrame({'Step' : [str(SS_fact), SS_all, SS_rand, d_fact, d_all, d_rand, MS_fact, MS_rand, F_emp, F_cr]},\n",
    "                          index=['SSфакт', 'SSзаг', 'SSвип', 'dфакт', 'dзаг', 'dвип', 'MSфакт', 'MSвип', 'Fемр', 'Fкрит'])\n",
    "    display(result)\n",
    "    \n",
    "    if F_emp > F_cr:\n",
    "        print('Equality of averages not confirmed')\n",
    "    else:\n",
    "        print('Equality of averages confirmed')\n",
    "    \n"
   ]
  },
  {
   "cell_type": "code",
   "execution_count": 304,
   "metadata": {
    "ExecuteTime": {
     "end_time": "2023-05-10T19:29:59.213356Z",
     "start_time": "2023-05-10T19:29:59.182229Z"
    }
   },
   "outputs": [
    {
     "data": {
      "text/html": [
       "<div>\n",
       "<style scoped>\n",
       "    .dataframe tbody tr th:only-of-type {\n",
       "        vertical-align: middle;\n",
       "    }\n",
       "\n",
       "    .dataframe tbody tr th {\n",
       "        vertical-align: top;\n",
       "    }\n",
       "\n",
       "    .dataframe thead th {\n",
       "        text-align: right;\n",
       "    }\n",
       "</style>\n",
       "<table border=\"1\" class=\"dataframe\">\n",
       "  <thead>\n",
       "    <tr style=\"text-align: right;\">\n",
       "      <th></th>\n",
       "      <th>Step</th>\n",
       "    </tr>\n",
       "  </thead>\n",
       "  <tbody>\n",
       "    <tr>\n",
       "      <th>SSфакт</th>\n",
       "      <td>36403775982.17651</td>\n",
       "    </tr>\n",
       "    <tr>\n",
       "      <th>SSзаг</th>\n",
       "      <td>420815387770.823486</td>\n",
       "    </tr>\n",
       "    <tr>\n",
       "      <th>SSвип</th>\n",
       "      <td>384411611788.646973</td>\n",
       "    </tr>\n",
       "    <tr>\n",
       "      <th>dфакт</th>\n",
       "      <td>2</td>\n",
       "    </tr>\n",
       "    <tr>\n",
       "      <th>dзаг</th>\n",
       "      <td>101</td>\n",
       "    </tr>\n",
       "    <tr>\n",
       "      <th>dвип</th>\n",
       "      <td>99</td>\n",
       "    </tr>\n",
       "    <tr>\n",
       "      <th>MSфакт</th>\n",
       "      <td>18201887991.088257</td>\n",
       "    </tr>\n",
       "    <tr>\n",
       "      <th>MSвип</th>\n",
       "      <td>3882945573.622697</td>\n",
       "    </tr>\n",
       "    <tr>\n",
       "      <th>Fемр</th>\n",
       "      <td>4.68765</td>\n",
       "    </tr>\n",
       "    <tr>\n",
       "      <th>Fкрит</th>\n",
       "      <td>3.1</td>\n",
       "    </tr>\n",
       "  </tbody>\n",
       "</table>\n",
       "</div>"
      ],
      "text/plain": [
       "                       Step\n",
       "SSфакт    36403775982.17651\n",
       "SSзаг   420815387770.823486\n",
       "SSвип   384411611788.646973\n",
       "dфакт                     2\n",
       "dзаг                    101\n",
       "dвип                     99\n",
       "MSфакт   18201887991.088257\n",
       "MSвип     3882945573.622697\n",
       "Fемр                4.68765\n",
       "Fкрит                   3.1"
      ]
     },
     "metadata": {},
     "output_type": "display_data"
    },
    {
     "name": "stdout",
     "output_type": "stream",
     "text": [
      "Equality of averages not confirmed\n"
     ]
    }
   ],
   "source": [
    "ANOVA(cutted_data)"
   ]
  },
  {
   "cell_type": "markdown",
   "metadata": {},
   "source": [
    "# Висновок"
   ]
  },
  {
   "cell_type": "markdown",
   "metadata": {},
   "source": [
    "За результатами дослідження були визначені статистичні відмінності у середніх значеннях запробітніх плат трьох груп фіхівців в it галузі. Було сформовано дві гіпотези:\n",
    "\n",
    "н0 - нульова гіпотеза полягає в тому, що немає статистично значимої різниці між зп у різних it фахівців.\n",
    "\n",
    "н1 - альтернативна гіпотеза полягає в тому, що є статистично значима різниця між зп у різних it фахівців.\n",
    "\n",
    "При аналізі даних було виконано кілька дій. Спершу - я вирівняв кількість даних за кожною професією. Видалив викиди. Виявилося, що ML Engineer\tмає на порядок вищу заробітню плату ніж інщі. Менше - Data Scientist, і трохи менше за нього - Data Analyst. З попереднього аналізу даних, я більш схиляюся до того, що вірною є альтернативна гіпотеза.\n",
    "\n",
    "В результаті перевірки даних дисперсійним аналізом, не вдалося підтвердити рівність середніх, тому вірною є альтернативна гіпотеза."
   ]
  },
  {
   "cell_type": "code",
   "execution_count": null,
   "metadata": {},
   "outputs": [],
   "source": []
  }
 ],
 "metadata": {
  "colab": {
   "authorship_tag": "ABX9TyPz43bweI3Rw31Fk91MPGuX",
   "collapsed_sections": [],
   "name": "КП8.ipynb",
   "provenance": []
  },
  "kernelspec": {
   "display_name": "Python 3 (ipykernel)",
   "language": "python",
   "name": "python3"
  },
  "language_info": {
   "codemirror_mode": {
    "name": "ipython",
    "version": 3
   },
   "file_extension": ".py",
   "mimetype": "text/x-python",
   "name": "python",
   "nbconvert_exporter": "python",
   "pygments_lexer": "ipython3",
   "version": "3.11.3"
  }
 },
 "nbformat": 4,
 "nbformat_minor": 1
}
